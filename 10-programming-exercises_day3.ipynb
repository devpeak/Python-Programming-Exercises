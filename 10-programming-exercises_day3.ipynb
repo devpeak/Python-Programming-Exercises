{
 "cells": [
  {
   "cell_type": "code",
   "execution_count": null,
   "id": "a4a331a2",
   "metadata": {},
   "outputs": [],
   "source": [
    "#1. Write a Python program to print out a set containing all the colors from color_list_1 which are not present in color_list_2. Go to the editor\n",
    "\"\"\"\n",
    "\n",
    "Test Data :\n",
    "color_list_1 = set([\"White\", \"Black\", \"Red\"])\n",
    "color_list_2 = set([\"Red\", \"Green\"])\n",
    "Expected Output :\n",
    "{'Black', 'White'}\n",
    "\n",
    "\"\"\""
   ]
  },
  {
   "cell_type": "code",
   "execution_count": 6,
   "id": "31ed52a3",
   "metadata": {},
   "outputs": [
    {
     "name": "stdout",
     "output_type": "stream",
     "text": [
      "{'Black', 'White'}\n"
     ]
    }
   ],
   "source": [
    "color_list1 = set(['Black','Red','White'])\n",
    "color_list2 = set(['Red','Greeen'])\n",
    "\n",
    "diff = color_list1 - color_list2\n",
    "\n",
    "print(diff)\n"
   ]
  },
  {
   "cell_type": "code",
   "execution_count": 2,
   "id": "ad7da64c",
   "metadata": {},
   "outputs": [
    {
     "ename": "TypeError",
     "evalue": "'set' object is not subscriptable",
     "output_type": "error",
     "traceback": [
      "\u001b[1;31m---------------------------------------------------------------------------\u001b[0m",
      "\u001b[1;31mTypeError\u001b[0m                                 Traceback (most recent call last)",
      "\u001b[1;32m~\\AppData\\Local\\Temp/ipykernel_23040/198341864.py\u001b[0m in \u001b[0;36m<module>\u001b[1;34m\u001b[0m\n\u001b[0;32m      1\u001b[0m \u001b[0mlst\u001b[0m \u001b[1;33m=\u001b[0m \u001b[0mset\u001b[0m\u001b[1;33m(\u001b[0m\u001b[1;33m[\u001b[0m\u001b[1;34m'apple'\u001b[0m\u001b[1;33m,\u001b[0m\u001b[1;34m'guava'\u001b[0m\u001b[1;33m,\u001b[0m\u001b[1;34m'mango'\u001b[0m\u001b[1;33m,\u001b[0m\u001b[1;34m'pineapple'\u001b[0m\u001b[1;33m]\u001b[0m\u001b[1;33m)\u001b[0m\u001b[1;33m\u001b[0m\u001b[1;33m\u001b[0m\u001b[0m\n\u001b[1;32m----> 2\u001b[1;33m \u001b[0mprint\u001b[0m\u001b[1;33m(\u001b[0m\u001b[0mlst\u001b[0m\u001b[1;33m[\u001b[0m\u001b[1;36m1\u001b[0m\u001b[1;33m]\u001b[0m\u001b[1;33m)\u001b[0m\u001b[1;33m\u001b[0m\u001b[1;33m\u001b[0m\u001b[0m\n\u001b[0m",
      "\u001b[1;31mTypeError\u001b[0m: 'set' object is not subscriptable"
     ]
    }
   ],
   "source": [
    "#CONCEPT\n",
    "\"\"\"\n",
    "\n",
    "lst = set(['apple','guava','mango','pineapple'])\n",
    "print(lst[1])\n",
    "\n",
    "\"\"\"\n",
    "    \n",
    "               "
   ]
  },
  {
   "cell_type": "code",
   "execution_count": null,
   "id": "3da92039",
   "metadata": {},
   "outputs": [],
   "source": [
    "#2. Write a Python program that will accept the base and height of a triangle and compute the area"
   ]
  },
  {
   "cell_type": "code",
   "execution_count": 8,
   "id": "4ffbcd87",
   "metadata": {},
   "outputs": [
    {
     "name": "stdout",
     "output_type": "stream",
     "text": [
      "Input the base of triangle: 20\n",
      "Input the height of triangle: 40\n",
      "Area of triangle having base 20 and height 40 is 400.0\n"
     ]
    }
   ],
   "source": [
    "def area(base,height):\n",
    "    print('Area of triangle having base {} and height {} is {}'.format(base,height,0.5 * base * height))\n",
    "    \n",
    "base = int (input ('Input the base of triangle: '))\n",
    "height = int (input ('Input the height of triangle: '))\n",
    "\n",
    "area(base,height)"
   ]
  },
  {
   "cell_type": "code",
   "execution_count": null,
   "id": "dd250b66",
   "metadata": {},
   "outputs": [],
   "source": [
    "#CONCEPT\n",
    "'''\n",
    "A triangle is a polygon with three edges and three vertices. It is one of the basic shapes in geometry.\n",
    "A triangle with vertices A, B, and C is denoted triangle ABC.\n",
    "\n",
    "1.Vertex of a triangle: The point at which two sides of a triangle meet.\n",
    "\n",
    "2.Altitude of a triangle: The perpendicular segment from a vertex of a triangle to the line containing the opposite side.\n",
    "\n",
    "3.Base of a triangle: The side of a triangle to which an altitude is drawn.\n",
    "\n",
    "4.Height of a triangle: The length of an altitude.\n",
    "\n",
    "'''"
   ]
  },
  {
   "cell_type": "code",
   "execution_count": null,
   "id": "b839ec4e",
   "metadata": {},
   "outputs": [],
   "source": [
    "#3.Write a Python program to compute the greatest common divisor (GCD) of two positive integers"
   ]
  },
  {
   "cell_type": "code",
   "execution_count": null,
   "id": "47239814",
   "metadata": {},
   "outputs": [],
   "source": [
    "#Method 2\n",
    "\n",
    "def gcd(x, y):\n",
    "    gcd = 1   \n",
    "    if x % y == 0:\n",
    "        return y\n",
    "    elif y % x == 0:\n",
    "        return x\n",
    "    for k in range(int(y / 2), 0, -1):\n",
    "        if x % k == 0 and y % k == 0:\n",
    "            gcd = k\n",
    "            break \n",
    "    return gcd\n",
    "\n",
    "num1 = int (input ('Input the first number : '))\n",
    "num2 = int (input ('Input the second number : '))\n",
    "\n",
    "print(\"GCD of {} and {} : {}\".format(num1,num2,gcd(num1, num2) ) )"
   ]
  },
  {
   "cell_type": "code",
   "execution_count": null,
   "id": "cb453510",
   "metadata": {},
   "outputs": [],
   "source": [
    "#CONCEPT\n",
    "\n",
    "'''\n",
    "The greatest common divisor (GCD) of two nonzero integers a and b is the greatest positive integer d such that d is a divisor of\n",
    "both a and b; that is, there are integers e and f such that a = de and b = df, and d is the largest such integer.\n",
    "The GCD of a and b is generally denoted gcd(a, b).\n",
    "\n",
    "\n",
    "say y = 10\n",
    "\n",
    "for k in range(int(y / 2), 0, -1):\n",
    "range(5,0-1)\n",
    "range(#starts from 5,end when reach 0 , decrease by 1)\n",
    "'''"
   ]
  },
  {
   "cell_type": "code",
   "execution_count": null,
   "id": "df99b08d",
   "metadata": {},
   "outputs": [],
   "source": [
    "#4. Write a Python program to get the least common multiple (LCM) of two positive integers"
   ]
  },
  {
   "cell_type": "code",
   "execution_count": 1,
   "id": "ad915110",
   "metadata": {},
   "outputs": [
    {
     "name": "stdout",
     "output_type": "stream",
     "text": [
      "10\n",
      "255\n"
     ]
    }
   ],
   "source": [
    "def lcm(x, y):\n",
    "    if x > y:\n",
    "        z = x\n",
    "    else:\n",
    "        z = y\n",
    "    while(True):\n",
    "        if((z % x == 0) and (z % y == 0)):\n",
    "            lcm = z\n",
    "            break\n",
    "        z += 1\n",
    "    return lcm\n",
    "print(abs(lcm(5, 2)))\n",
    "print(abs(lcm(15, 17)))"
   ]
  },
  {
   "cell_type": "code",
   "execution_count": null,
   "id": "1c632905",
   "metadata": {},
   "outputs": [],
   "source": [
    "#5. Write a program which will find all such numbers which are divisible by 7 but are not a multiple of 5,\n",
    "#between 2000 and 3200 (both included).\n",
    "#The numbers obtained should be printed in a comma-separated sequence on a single line."
   ]
  },
  {
   "cell_type": "code",
   "execution_count": 6,
   "id": "111d5b52",
   "metadata": {},
   "outputs": [
    {
     "name": "stdout",
     "output_type": "stream",
     "text": [
      "2002,2009,2016,2023,2037,2044,2051,2058,2072,2079,2086,2093,2107,2114,2121,2128,2142,2149,2156,2163,2177,2184,2191,2198,2212,2219,2226,2233,2247,2254,2261,2268,2282,2289,2296,2303,2317,2324,2331,2338,2352,2359,2366,2373,2387,2394,2401,2408,2422,2429,2436,2443,2457,2464,2471,2478,2492,2499,2506,2513,2527,2534,2541,2548,2562,2569,2576,2583,2597,2604,2611,2618,2632,2639,2646,2653,2667,2674,2681,2688,2702,2709,2716,2723,2737,2744,2751,2758,2772,2779,2786,2793,2807,2814,2821,2828,2842,2849,2856,2863,2877,2884,2891,2898,2912,2919,2926,2933,2947,2954,2961,2968,2982,2989,2996,3003,3017,3024,3031,3038,3052,3059,3066,3073,3087,3094,3101,3108,3122,3129,3136,3143,3157,3164,3171,3178,3192,3199\n"
     ]
    }
   ],
   "source": [
    "lst = []\n",
    "for i in range(2000,3200):\n",
    "    if (i%7 == 0) and (i %5!=0):\n",
    "        lst.append(str(i))\n",
    "print(','.join(lst))"
   ]
  },
  {
   "cell_type": "markdown",
   "id": "e768be64",
   "metadata": {},
   "source": [
    "#6. Write a program which can compute the factorial of a given numbers.\n",
    "The results should be printed in a comma-separated sequence on a single line.\n",
    "Suppose the following input is supplied to the program:\n",
    "8\n",
    "Then, the output should be:\n",
    "40320"
   ]
  },
  {
   "cell_type": "code",
   "execution_count": 1,
   "id": "b84a94fc",
   "metadata": {},
   "outputs": [
    {
     "name": "stdout",
     "output_type": "stream",
     "text": [
      "Enter any mumber: 5\n",
      "factorial of 5 is 120\n"
     ]
    }
   ],
   "source": [
    "def fact(num):\n",
    "    '''\n",
    "    This function returns the factorial of a number.\n",
    "    \n",
    "    '''\n",
    "    if num == 1: #dactorial of 0 and 1 is 1\n",
    "        return num;\n",
    "    return num*fact(num-1)\n",
    "\n",
    "num = int(input('Enter any mumber: '))\n",
    "\n",
    "print('factorial of {} is {}'.format(num,fact(num)))"
   ]
  },
  {
   "cell_type": "code",
   "execution_count": 2,
   "id": "7ea967b8",
   "metadata": {},
   "outputs": [
    {
     "name": "stdout",
     "output_type": "stream",
     "text": [
      "Help on function fact in module __main__:\n",
      "\n",
      "fact(num)\n",
      "    This function returns the factorial of a number.\n",
      "    factorial of 0 and 1 is 1\n",
      "\n"
     ]
    }
   ],
   "source": [
    "help(fact)"
   ]
  },
  {
   "cell_type": "markdown",
   "id": "c313de6b",
   "metadata": {},
   "source": [
    "#7. Question:\n",
    "\n",
    "With a given integral number n, write a program to generate a dictionary that contains (i, i*i) such that is an integral number between 1 and n (both included). and then the program should print the dictionary.\n",
    "Suppose the following input is supplied to the program:\n",
    "8\n",
    "Then, the output should be:\n",
    "{1: 1, 2: 4, 3: 9, 4: 16, 5: 25, 6: 36, 7: 49, 8: 64}\n",
    "\n",
    "Hints:\n",
    "In case of input data being supplied to the question, it should be assumed to be a console input.\n",
    "Consider use dict()"
   ]
  },
  {
   "cell_type": "code",
   "execution_count": 4,
   "id": "f6800082",
   "metadata": {},
   "outputs": [
    {
     "name": "stdout",
     "output_type": "stream",
     "text": [
      "5\n",
      "{1: 1, 2: 4, 3: 9, 4: 16, 5: 25}\n"
     ]
    }
   ],
   "source": [
    "n = int(input())\n",
    "dct = dict()\n",
    "for i in range(1,n+1):\n",
    "    dct[i] = i * i\n",
    "print(dct)"
   ]
  },
  {
   "cell_type": "markdown",
   "id": "cfb4b79d",
   "metadata": {},
   "source": [
    "#8. Question:\n",
    "\n",
    "Write a program which accepts a sequence of comma-separated numbers from console and generate a list and a tuple which contains every number.\n",
    "Suppose the following input is supplied to the program:\n",
    "34,67,55,33,12,98\n",
    "Then, the output should be:\n",
    "['34', '67', '55', '33', '12', '98']\n",
    "('34', '67', '55', '33', '12', '98')\n",
    "\n",
    "Hints:\n",
    "In case of input data being supplied to the question, it should be assumed to be a console input.\n",
    "tuple() method can convert list to tuple"
   ]
  },
  {
   "cell_type": "code",
   "execution_count": 22,
   "id": "cbcf6c18",
   "metadata": {},
   "outputs": [
    {
     "name": "stdout",
     "output_type": "stream",
     "text": [
      "6,9,9,0\n",
      "['6', '9', '9', '0']\n",
      "('6', '9', '9', '0')\n"
     ]
    }
   ],
   "source": [
    "\n",
    "data = input()\n",
    "\n",
    "data = data.split(',')\n",
    "\n",
    "data = list(data)\n",
    "print(data)\n",
    "\n",
    "print(tuple(data))\n"
   ]
  },
  {
   "cell_type": "code",
   "execution_count": 21,
   "id": "504a748e",
   "metadata": {},
   "outputs": [
    {
     "name": "stdout",
     "output_type": "stream",
     "text": [
      "['my', 'name', 'is', 'malay']\n"
     ]
    }
   ],
   "source": [
    "string = 'my-name-is-malay'\n",
    "string = string.split('-')\n",
    "print(string)"
   ]
  },
  {
   "cell_type": "markdown",
   "id": "aa4e6dca",
   "metadata": {},
   "source": [
    "#9.Question:\n",
    "\n",
    "Write a program that calculates and prints the value according to the given formula:\n",
    "Q = Square root of [(2 * C * D)/H]\n",
    "Following are the fixed values of C and H:\n",
    "C is 50. H is 30.\n",
    "D is the variable whose values should be input to your program in a comma-separated sequence.\n",
    "Example\n",
    "Let us assume the following comma separated input sequence is given to the program:\n",
    "100,150,180\n",
    "The output of the program should be:\n",
    "18,22,24\n",
    "\n",
    "Hints:\n",
    "If the output received is in decimal form, it should be rounded off to its nearest value (for example, if the output received is 26.0, it should be printed as 26)\n",
    "In case of input data being supplied to the question, it should be assumed to be a console input. "
   ]
  },
  {
   "cell_type": "code",
   "execution_count": 37,
   "id": "b7b1830c",
   "metadata": {},
   "outputs": [
    {
     "name": "stdout",
     "output_type": "stream",
     "text": [
      "100,150,180\n",
      "18,22,24\n"
     ]
    }
   ],
   "source": [
    "import math\n",
    "\n",
    "\n",
    "def output(X,lst,H): \n",
    "    result = []\n",
    "    for i in range(len(lst)):\n",
    "        result.append(str(int(round((math.sqrt((2 * C * float(lst[i]))/float(H)))))))\n",
    "    return (','.join(result))\n",
    "    \n",
    "       \n",
    "C = 50\n",
    "H = 30\n",
    "\n",
    "D = input()\n",
    "\n",
    "D = D.split(',')\n",
    "\n",
    "print(output(C,D,H))\n",
    "\n",
    "\n",
    "     \n"
   ]
  },
  {
   "cell_type": "markdown",
   "id": "65a88f18",
   "metadata": {},
   "source": [
    "#core concept of question\n",
    "s = \"1,2,3\"\n",
    "print(s)\n",
    "\n",
    "\n",
    "#concept used and nearby concetpt **keylearning\n",
    "\n",
    "**import math**\n",
    "#1. math.floor(69.6) -> 69\n",
    "\n",
    "#2. math.ceil(68.2) -> 69\n",
    "\n",
    "#3. round(69.4) -> 69\n",
    "#4. round(68.6) -> 69\n",
    "\n",
    "string.split(',')\n",
    "\n",
    "#5.\n",
    "string = string.split(',') #split string into list of strings\n",
    "\n",
    "#6. \n",
    "lst.append()\n",
    "insert value to list\n",
    "\n",
    "#7.\n",
    "math.sqrt()\n",
    "used to get squre root of any number"
   ]
  },
  {
   "cell_type": "code",
   "execution_count": 62,
   "id": "643cb433",
   "metadata": {},
   "outputs": [
    {
     "name": "stdout",
     "output_type": "stream",
     "text": [
      "69\n",
      "69\n",
      "69\n",
      "68\n",
      "69\n",
      "['malay', 'aman', 'ankush', 'rahul']\n",
      "<class 'str'>\n",
      "['apple', 'samsung', 'Nothing']\n"
     ]
    }
   ],
   "source": [
    "print(math.ceil(68.2))\n",
    "print(math.floor(69.6))\n",
    "print( round(69.4))\n",
    "print(round(68.5))\n",
    "print(round(68.6))\n",
    "\n",
    "string = \"malay,aman,ankush,rahul\"\n",
    "print(string.split(','))\n",
    "print(type(string))\n",
    "\n",
    "lst = ['apple','samsung']\n",
    "lst.append('Nothing')\n",
    "print(lst)"
   ]
  },
  {
   "cell_type": "code",
   "execution_count": 64,
   "id": "f1f9b291",
   "metadata": {},
   "outputs": [
    {
     "name": "stdout",
     "output_type": "stream",
     "text": [
      "4.0\n"
     ]
    }
   ],
   "source": [
    "x = 16\n",
    "y = math.sqrt(x)\n",
    "print(y)"
   ]
  },
  {
   "cell_type": "code",
   "execution_count": 76,
   "id": "d895997f",
   "metadata": {},
   "outputs": [
    {
     "name": "stdout",
     "output_type": "stream",
     "text": [
      "[2, 4, 6, 8]\n",
      "<class 'list'>\n"
     ]
    },
    {
     "ename": "TypeError",
     "evalue": "sequence item 0: expected str instance, int found",
     "output_type": "error",
     "traceback": [
      "\u001b[1;31m---------------------------------------------------------------------------\u001b[0m",
      "\u001b[1;31mTypeError\u001b[0m                                 Traceback (most recent call last)",
      "\u001b[1;32m~\\AppData\\Local\\Temp/ipykernel_5520/1413428639.py\u001b[0m in \u001b[0;36m<module>\u001b[1;34m\u001b[0m\n\u001b[0;32m      9\u001b[0m \u001b[1;33m\u001b[0m\u001b[0m\n\u001b[0;32m     10\u001b[0m \u001b[1;31m#output should be 2,4,6,8\u001b[0m\u001b[1;33m\u001b[0m\u001b[1;33m\u001b[0m\u001b[0m\n\u001b[1;32m---> 11\u001b[1;33m \u001b[0mprint\u001b[0m\u001b[1;33m(\u001b[0m\u001b[1;34m','\u001b[0m\u001b[1;33m.\u001b[0m\u001b[0mjoin\u001b[0m\u001b[1;33m(\u001b[0m\u001b[0mlst\u001b[0m\u001b[1;33m)\u001b[0m\u001b[1;33m)\u001b[0m\u001b[1;33m\u001b[0m\u001b[1;33m\u001b[0m\u001b[0m\n\u001b[0m",
      "\u001b[1;31mTypeError\u001b[0m: sequence item 0: expected str instance, int found"
     ]
    }
   ],
   "source": [
    "#VVI NOTE\n",
    "\n",
    "lst = [2,4,6,8]\n",
    "\n",
    "#NOW TO CONVERT THIS LST TO STRING\n",
    "\n",
    "print(lst)\n",
    "print(type(lst))\n",
    "\n",
    "#output should be 2,4,6,8\n",
    "print(','.join(lst))\n"
   ]
  },
  {
   "cell_type": "markdown",
   "id": "4f1c8f74",
   "metadata": {},
   "source": [
    "here item are not in string datatype, so it's good practice to initialize with ''"
   ]
  },
  {
   "cell_type": "code",
   "execution_count": 77,
   "id": "3fc6880a",
   "metadata": {},
   "outputs": [
    {
     "name": "stdout",
     "output_type": "stream",
     "text": [
      "['2', '6', '8', '10']\n",
      "2,6,8,10\n"
     ]
    }
   ],
   "source": [
    "lst = ['2','6','8','10']\n",
    "\n",
    "print(lst)\n",
    "print(','.join(lst))"
   ]
  },
  {
   "cell_type": "code",
   "execution_count": null,
   "id": "af4ec786",
   "metadata": {},
   "outputs": [],
   "source": []
  },
  {
   "cell_type": "code",
   "execution_count": 73,
   "id": "2eff2ce0",
   "metadata": {},
   "outputs": [
    {
     "name": "stdout",
     "output_type": "stream",
     "text": [
      "[2, 4.5, 6, 8, 'malay']\n",
      "<class 'list'>\n"
     ]
    }
   ],
   "source": [
    "lst = [2,4.5,6,8,'malay']\n",
    "print(lst)\n",
    "print(type(lst))"
   ]
  },
  {
   "cell_type": "code",
   "execution_count": null,
   "id": "550a7531",
   "metadata": {},
   "outputs": [],
   "source": []
  }
 ],
 "metadata": {
  "kernelspec": {
   "display_name": "Python 3 (ipykernel)",
   "language": "python",
   "name": "python3"
  },
  "language_info": {
   "codemirror_mode": {
    "name": "ipython",
    "version": 3
   },
   "file_extension": ".py",
   "mimetype": "text/x-python",
   "name": "python",
   "nbconvert_exporter": "python",
   "pygments_lexer": "ipython3",
   "version": "3.9.7"
  }
 },
 "nbformat": 4,
 "nbformat_minor": 5
}
