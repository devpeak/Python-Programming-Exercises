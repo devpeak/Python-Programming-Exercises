{
 "cells": [
  {
   "cell_type": "code",
   "execution_count": 2,
   "id": "a465d8c1",
   "metadata": {},
   "outputs": [
    {
     "name": "stdout",
     "output_type": "stream",
     "text": [
      "Input any number: 20\n"
     ]
    },
    {
     "data": {
      "text/plain": [
       "6"
      ]
     },
     "execution_count": 2,
     "metadata": {},
     "output_type": "execute_result"
    }
   ],
   "source": [
    "#1. Write a Python program to get the difference between a given number and 17,if the number is greater than 17 return\n",
    "#double the absolute difference.\n",
    "\n",
    "def difference(num):\n",
    "    if num <= 17 :\n",
    "        return 17 - num\n",
    "    else:\n",
    "        return (num - 17) * 2\n",
    "\n",
    "num = int(input('Input any number: '))\n",
    "difference(num)\n"
   ]
  },
  {
   "cell_type": "code",
   "execution_count": null,
   "id": "41de36c3",
   "metadata": {},
   "outputs": [],
   "source": [
    "#Concept\n",
    "\n",
    "\"\"\"\n",
    "Python abs(x) function:\n",
    "\n",
    "The function returns the absolute value of a number. The argument may be an integer or a floating point number.\n",
    "If the argument is a complex number, its magnitude is returned.\n",
    "\"\"\""
   ]
  },
  {
   "cell_type": "code",
   "execution_count": 11,
   "id": "e02b96e2",
   "metadata": {},
   "outputs": [
    {
     "name": "stdout",
     "output_type": "stream",
     "text": [
      "False\n",
      "True\n",
      "False\n",
      "True\n",
      "True\n",
      "True\n",
      "False\n"
     ]
    }
   ],
   "source": [
    "#2. Write a Python program to test whether a number is within 100 of 1000 or 2000\n",
    "\n",
    "def near_thousand(num):\n",
    "    return ((abs(num-1000) <=100) or (abs(num-2000) <= 100 ) )\n",
    "\n",
    "print(near_thousand(899))\n",
    "print(near_thousand(900))\n",
    "print(near_thousand(1899))\n",
    "print(near_thousand(1900))\n",
    "print(near_thousand(2099))\n",
    "print(near_thousand(2100))\n",
    "print(near_thousand(2101))"
   ]
  },
  {
   "cell_type": "code",
   "execution_count": 14,
   "id": "620c1230",
   "metadata": {},
   "outputs": [
    {
     "name": "stdout",
     "output_type": "stream",
     "text": [
      "Enter the first number: 7\n",
      "Enter the second number: 1\n",
      "Enter the third numer: 1\n"
     ]
    },
    {
     "data": {
      "text/plain": [
       "9"
      ]
     },
     "execution_count": 14,
     "metadata": {},
     "output_type": "execute_result"
    }
   ],
   "source": [
    "#3. Write a Python program to calculate the sum of three given numbers, if the values are equal then return three times of \n",
    "#their sum\n",
    "def summ(num1,num2,num3):\n",
    "    _sum = num1 + num2 + num3\n",
    "    \n",
    "    if (num1 == num2 == num3):\n",
    "        _sum = _sum *3\n",
    "        \n",
    "    return _sum\n",
    "\n",
    "num1 = int(input('Enter the first number: '))\n",
    "num2 = int(input('Enter the second number: '))\n",
    "num3 = int(input('Enter the third numer: '))\n",
    "summ(num1,num2,num3)\n"
   ]
  },
  {
   "cell_type": "code",
   "execution_count": 37,
   "id": "617cc4b9",
   "metadata": {},
   "outputs": [
    {
     "name": "stdout",
     "output_type": "stream",
     "text": [
      "IsMalay\n",
      "IsEmpty\n",
      "None\n"
     ]
    }
   ],
   "source": [
    "#4. Write a Python program to get a new string from a given string where \"Is\" has been added to the front. If the given string\n",
    "#already begins with \"Is\" then return the string unchanged.\n",
    "\n",
    "#Method1\n",
    "\n",
    "def Isstring(stringg):\n",
    "    \n",
    "    lst = []\n",
    "    lst = list(stringg)\n",
    "    if (len(lst) > 2):\n",
    "        for i in range(len(lst)):\n",
    "            if lst[0] == 'I' and lst[1] == 's':\n",
    "                return(stringg) \n",
    "            \n",
    "            else:\n",
    "                lst.insert(0,'I')\n",
    "                lst.insert(1,'s')\n",
    "                return (\"\".join(lst))\n",
    "\n",
    "name = \"Malay\"\n",
    "box = \"IsEmpty\"\n",
    "check = 'Is'\n",
    "\n",
    "print(Isstring(name))\n",
    "\n",
    "print(Isstring(box))\n",
    "\n",
    "print(Isstring(check))\n",
    "\n",
    "\n",
    "    "
   ]
  },
  {
   "cell_type": "code",
   "execution_count": null,
   "id": "5de80280",
   "metadata": {},
   "outputs": [],
   "source": [
    "#CONCEPT\n",
    "\"\"\"\n",
    "lst.insert(index at which you want to add,value to be added)\n",
    "\n",
    "#convert list of items into strings\n",
    "\n",
    "lst = ['a','p','p','l','e']\n",
    "print(\"\".join(lst))\n",
    "\n",
    "\"\"\""
   ]
  },
  {
   "cell_type": "code",
   "execution_count": 60,
   "id": "83f3d539",
   "metadata": {},
   "outputs": [
    {
     "name": "stdout",
     "output_type": "stream",
     "text": [
      "IsMalay\n"
     ]
    }
   ],
   "source": [
    "#Method 2\n",
    "\n",
    "def newstring(str1):\n",
    "    if len(str1) > 2 and str1[0:2] == \"Is\":\n",
    "            return (str1)\n",
    "    \n",
    "    return (\"Is\"+str1)\n",
    "      \n",
    "str1 = \"Malay\"\n",
    "str2 = \"IsEmpty\"\n",
    "print(newstring(str1))"
   ]
  },
  {
   "cell_type": "code",
   "execution_count": 2,
   "id": "445d5374",
   "metadata": {},
   "outputs": [
    {
     "data": {
      "text/plain": [
       "\"\\nfruits = 'apple'\\nprint(fruits[0:3])#slicing starts from 0 and ends at 2\\n\\n\""
      ]
     },
     "execution_count": 2,
     "metadata": {},
     "output_type": "execute_result"
    }
   ],
   "source": [
    "#Concept STRING SLICING\n",
    "\n",
    "'''\n",
    "fruits = 'apple'\n",
    "print(fruits[0:3])#slicing starts from 0 and ends at 2\n",
    "\n",
    "'''"
   ]
  },
  {
   "cell_type": "code",
   "execution_count": null,
   "id": "c7c5606d",
   "metadata": {},
   "outputs": [],
   "source": [
    "#5. Write a Python program to get a string which is n (non-negative integer) copies of a given string"
   ]
  },
  {
   "cell_type": "code",
   "execution_count": 3,
   "id": "0aab920d",
   "metadata": {},
   "outputs": [
    {
     "name": "stdout",
     "output_type": "stream",
     "text": [
      "Enter any word: malay\n",
      "Enter the no of time to be copied: 3\n",
      "malaymalaymalay\n"
     ]
    }
   ],
   "source": [
    "#Method1\n",
    "\n",
    "string = input('Enter any string: ')\n",
    "\n",
    "n = int(input('Enter the no of time to be copied: '))\n",
    "\n",
    "print(string*n)\n"
   ]
  },
  {
   "cell_type": "code",
   "execution_count": 5,
   "id": "6caaed0d",
   "metadata": {},
   "outputs": [
    {
     "name": "stdout",
     "output_type": "stream",
     "text": [
      "Enter any string: jmalay\n",
      "Enter the no of time to be copied: 3\n"
     ]
    },
    {
     "data": {
      "text/plain": [
       "'jmalayjmalayjmalay'"
      ]
     },
     "execution_count": 5,
     "metadata": {},
     "output_type": "execute_result"
    }
   ],
   "source": [
    "#Method2\n",
    "\n",
    "def copy_string(string, num):\n",
    "    final_string = \"\"\n",
    "    for i in range(num):\n",
    "        final_string = final_string + string \n",
    "    return (final_string)\n",
    "\n",
    "string = input('Enter any string: ')\n",
    "n = int(input('Enter the no of time to be copied: '))\n",
    "\n",
    "copy_string(string, n)"
   ]
  },
  {
   "cell_type": "code",
   "execution_count": null,
   "id": "735bb855",
   "metadata": {},
   "outputs": [],
   "source": [
    "#6. Write a Python program to find whether a given number (accept from the user) is even or odd, print out an appropriate message\n",
    "#to the user"
   ]
  },
  {
   "cell_type": "code",
   "execution_count": 6,
   "id": "64e2e4a8",
   "metadata": {},
   "outputs": [
    {
     "name": "stdout",
     "output_type": "stream",
     "text": [
      "Enter any number: 5\n",
      "Odd\n"
     ]
    }
   ],
   "source": [
    "num = int(input('Enter any number: '))\n",
    "if (num%2 == 0):\n",
    "    print('Even')\n",
    "else:\n",
    "    print('Odd')"
   ]
  },
  {
   "cell_type": "code",
   "execution_count": null,
   "id": "f698669f",
   "metadata": {},
   "outputs": [],
   "source": [
    "#7. Write a Python program to count the number 4 in a given list"
   ]
  },
  {
   "cell_type": "code",
   "execution_count": 9,
   "id": "6f3c95b2",
   "metadata": {},
   "outputs": [
    {
     "name": "stdout",
     "output_type": "stream",
     "text": [
      "2\n"
     ]
    }
   ],
   "source": [
    "def search(lst,num):\n",
    "    count = 0\n",
    "    for i in range(len(lst)):\n",
    "        if lst[i] == num:\n",
    "            count = count +1\n",
    "    return (count)\n",
    "        \n",
    "\n",
    "lst = [1,4,6,7,4]\n",
    "\n",
    "print(search(lst,4))"
   ]
  },
  {
   "cell_type": "code",
   "execution_count": null,
   "id": "7d84c324",
   "metadata": {},
   "outputs": [],
   "source": [
    "#8. Write a Python program to get the n (non-negative integer) copies of the first 2 characters of a given string.\n",
    "#Return the n copies of the whole string if the length is less than 2."
   ]
  },
  {
   "cell_type": "code",
   "execution_count": 12,
   "id": "fee56511",
   "metadata": {},
   "outputs": [
    {
     "name": "stdout",
     "output_type": "stream",
     "text": [
      "Enter any string: x\n",
      "Enter the the times you want to make copy of: 3\n",
      "xxx\n"
     ]
    }
   ],
   "source": [
    "def new_string(string,copy):\n",
    "    if len(string) < 2:\n",
    "        return (string*copy)\n",
    "    return (string[:2]*copy)\n",
    "\n",
    "string = input('Enter any string: ')\n",
    "copy = int(input('Enter the the times you want to make copy of: '))\n",
    "\n",
    "print(new_string(string,copy))"
   ]
  },
  {
   "cell_type": "code",
   "execution_count": null,
   "id": "3c95f67d",
   "metadata": {},
   "outputs": [],
   "source": [
    "#9. Write a Python program to test whether a passed letter is a vowel or not"
   ]
  },
  {
   "cell_type": "code",
   "execution_count": 20,
   "id": "761362e3",
   "metadata": {},
   "outputs": [
    {
     "name": "stdout",
     "output_type": "stream",
     "text": [
      "Input any alphabet: a\n",
      "'a' is VOWEL\n"
     ]
    }
   ],
   "source": [
    "def alphabet(letter):\n",
    "    vowel = ['a','e','i','o','u']\n",
    "    for i in range(len(vowel)):\n",
    "        if vowel[i] == letter:\n",
    "            return True\n",
    "    return False\n",
    "\n",
    "letter = input('Input any alphabet: ')\n",
    "bull  = \"\"\n",
    "bull  = bool(bull) #typecasting to boolean\n",
    "bull = alphabet(letter)\n",
    "\n",
    "if bull == True:\n",
    "    print(\"'{}' is VOWEL\".format(letter))\n",
    "else:\n",
    "    print('%s is consonant '%letter)\n",
    "\n",
    "\n",
    "    "
   ]
  },
  {
   "cell_type": "code",
   "execution_count": 24,
   "id": "7c3c8f53",
   "metadata": {},
   "outputs": [
    {
     "name": "stdout",
     "output_type": "stream",
     "text": [
      "True\n",
      "False\n"
     ]
    }
   ],
   "source": [
    "#Method 2\n",
    "\n",
    "def alphabet(char):\n",
    "    if char in \"aeiou\":\n",
    "        return True\n",
    "    return False\n",
    "\n",
    "print(alphabet('a'))\n",
    "print(alphabet('b'))\n",
    "    "
   ]
  },
  {
   "cell_type": "code",
   "execution_count": null,
   "id": "023067f1",
   "metadata": {},
   "outputs": [],
   "source": [
    "#Concept \n",
    "\"\"\"\n",
    "The in keyword has two purposes:\n",
    "\n",
    "The in keyword is used to check if a value is present in a sequence (list, range, string etc.).\n",
    "\n",
    "The in keyword is also used to iterate through a sequence in a for loop:\n",
    "\n",
    "*-----------------------------------------------\n",
    "\n",
    "fruits = [\"apple\", \"banana\", \"cherry\"]\n",
    "\n",
    "for x in fruits:\n",
    "  print(x)\n",
    "*----------------------------------------------\n",
    "O/P:\n",
    "\n",
    "apple\n",
    "banana\n",
    "cherry\n",
    " \n",
    "\"\"\""
   ]
  },
  {
   "cell_type": "code",
   "execution_count": 27,
   "id": "e7eec361",
   "metadata": {},
   "outputs": [
    {
     "data": {
      "text/plain": [
       "'\\n\\nTest Data :\\n3 -> [1, 5, 8, 3] : True\\n-1 -> [1, 5, 8, 3] : False\\n\\n'"
      ]
     },
     "execution_count": 27,
     "metadata": {},
     "output_type": "execute_result"
    }
   ],
   "source": [
    "#10. Write a Python program to check whether a specified value is contained in a group of values\n",
    "\"\"\"\n",
    "\n",
    "Test Data :\n",
    "3 -> [1, 5, 8, 3] : True\n",
    "-1 -> [1, 5, 8, 3] : False\n",
    "\n",
    "\"\"\"\n"
   ]
  },
  {
   "cell_type": "code",
   "execution_count": null,
   "id": "418a0694",
   "metadata": {},
   "outputs": [],
   "source": [
    "#Method1\n",
    "\n",
    "def search(lst , num):\n",
    "    if num in lst:\n",
    "        return True\n",
    "    return False\n",
    "\n",
    "lst = [1,5,8,3]\n",
    "num = 3\n",
    "\n",
    "search(lst,num)"
   ]
  },
  {
   "cell_type": "code",
   "execution_count": 29,
   "id": "419a09a8",
   "metadata": {},
   "outputs": [
    {
     "data": {
      "text/plain": [
       "False"
      ]
     },
     "execution_count": 29,
     "metadata": {},
     "output_type": "execute_result"
    }
   ],
   "source": [
    "#Method2\n",
    "\n",
    "def search(lst,num):\n",
    "    for i in range(len(lst)):\n",
    "        if lst[i] == num:\n",
    "            return True\n",
    "    return False\n",
    "\n",
    "lst = [1,5,8,3]\n",
    "num = -1\n",
    "\n",
    "search(lst,num)"
   ]
  },
  {
   "cell_type": "code",
   "execution_count": null,
   "id": "78f4fd83",
   "metadata": {},
   "outputs": [],
   "source": [
    "#11.Write a Python program to create a histogram from a given list of integers"
   ]
  },
  {
   "cell_type": "code",
   "execution_count": 37,
   "id": "fc5f9bcf",
   "metadata": {},
   "outputs": [
    {
     "name": "stdout",
     "output_type": "stream",
     "text": [
      "*\n",
      "***\n",
      "*****\n",
      "*******\n",
      "*********\n"
     ]
    }
   ],
   "source": [
    "def histrogram(lst):\n",
    "    for i in range(len(lst)):\n",
    "        result = \"\"\n",
    "        times = lst[i]\n",
    "        while (times>0):\n",
    "            result = result + \"*\"\n",
    "            times = times -1\n",
    "        print(result)\n",
    "        \n",
    "        \n",
    "        \n",
    "        \n",
    "lst = [1,3,5,7,9]\n",
    "\n",
    "histrogram(lst)"
   ]
  },
  {
   "cell_type": "code",
   "execution_count": null,
   "id": "2d0cae78",
   "metadata": {},
   "outputs": [],
   "source": [
    "#12.  Write a Python program to concatenate all elements in a list into a string and return it."
   ]
  },
  {
   "cell_type": "code",
   "execution_count": 40,
   "id": "1544d148",
   "metadata": {},
   "outputs": [
    {
     "name": "stdout",
     "output_type": "stream",
     "text": [
      "iron\n"
     ]
    }
   ],
   "source": [
    "def concatenate(lst):\n",
    "    result = ''\n",
    "    for i in range(len(lst)):   \n",
    "        result = result + lst[i]\n",
    "    return(result)\n",
    "lst = ['i','r','o','n']\n",
    "print(concatenate(lst))"
   ]
  },
  {
   "cell_type": "code",
   "execution_count": null,
   "id": "2ceab82c",
   "metadata": {},
   "outputs": [],
   "source": [
    "#13. Write a Python program to print all even numbers from a given numbers list in the same order and \n",
    "#stop the printing if any numbers that come after 237 in the sequence"
   ]
  },
  {
   "cell_type": "code",
   "execution_count": 44,
   "id": "f9f76a05",
   "metadata": {},
   "outputs": [
    {
     "name": "stdout",
     "output_type": "stream",
     "text": [
      "386\n",
      "462\n",
      "418\n",
      "344\n",
      "236\n",
      "566\n",
      "978\n",
      "328\n",
      "162\n",
      "758\n",
      "918\n",
      "237\n"
     ]
    }
   ],
   "source": [
    "numbers = [    \n",
    "    386, 462, 47, 418, 907, 344, 236, 375, 823, 566, 597, 978, 328, 615, 953, 345, \n",
    "    399, 162, 758, 219, 918, 237, 412, 566, 826, 248, 866, 950, 626, 949, 687, 217, \n",
    "    815, 67, 104, 58, 512, 24, 892, 894, 767, 553, 81, 379, 843, 831, 445, 742, 717, \n",
    "    958,743, 527\n",
    "    ]\n",
    "\n",
    "for i in numbers:\n",
    "    if i == 237:\n",
    "        print(i)\n",
    "        break;\n",
    "    elif (i%2 == 0):\n",
    "        print(i)"
   ]
  },
  {
   "cell_type": "code",
   "execution_count": null,
   "id": "ff79af6f",
   "metadata": {},
   "outputs": [],
   "source": []
  }
 ],
 "metadata": {
  "kernelspec": {
   "display_name": "Python 3 (ipykernel)",
   "language": "python",
   "name": "python3"
  },
  "language_info": {
   "codemirror_mode": {
    "name": "ipython",
    "version": 3
   },
   "file_extension": ".py",
   "mimetype": "text/x-python",
   "name": "python",
   "nbconvert_exporter": "python",
   "pygments_lexer": "ipython3",
   "version": "3.9.7"
  }
 },
 "nbformat": 4,
 "nbformat_minor": 5
}
