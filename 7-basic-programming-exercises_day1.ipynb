{
 "cells": [
  {
   "cell_type": "code",
   "execution_count": null,
   "id": "65c04e1f",
   "metadata": {},
   "outputs": [],
   "source": [
    "#1. Write a Python program to display the first and last colors from the following list\n",
    "\n",
    "#color_list = [\"Red\",\"Green\",\"White\" ,\"Black\"]"
   ]
  },
  {
   "cell_type": "code",
   "execution_count": 3,
   "id": "a1347b02",
   "metadata": {},
   "outputs": [
    {
     "name": "stdout",
     "output_type": "stream",
     "text": [
      "Red Black\n"
     ]
    }
   ],
   "source": [
    "color_list = [\"Red\",\"Green\",\"White\" ,\"Black\"]\n",
    "print(\"%s %s\"%(color_list[0],color_list[-1]))"
   ]
  },
  {
   "cell_type": "code",
   "execution_count": null,
   "id": "85fb4510",
   "metadata": {},
   "outputs": [],
   "source": [
    "#2. Write a Python program to display the examination schedule. (extract the date from exam_st_date)\n",
    "\"\"\"\n",
    "exam_st_date = (11, 12, 2014)\n",
    "Sample Output : The examination will start from : 11 / 12 / 2014\n",
    "\n",
    "%d , %i --> Signed integer decimal.\n",
    "\"\"\""
   ]
  },
  {
   "cell_type": "code",
   "execution_count": 9,
   "id": "12527ab3",
   "metadata": {},
   "outputs": [
    {
     "name": "stdout",
     "output_type": "stream",
     "text": [
      "The examination will start from : 11 / 12 / 2014\n",
      "The examination will start from : 11 / 12 / 2014\n",
      "The examination will start from : 11 / 12 / 2014\n"
     ]
    }
   ],
   "source": [
    "exam_st_date = (11, 12, 2014)\n",
    "\n",
    "print('The examination will start from : %d / %d / %d'%(exam_st_date))\n",
    "\n",
    "print('The examination will start from : %i / %i / %i'%(exam_st_date))\n",
    "\n",
    "print('The examination will start from : {} / {} / {}'.format(exam_st_date[0],exam_st_date[1],exam_st_date[2]))"
   ]
  },
  {
   "cell_type": "code",
   "execution_count": 1,
   "id": "7ef11615",
   "metadata": {},
   "outputs": [
    {
     "name": "stdout",
     "output_type": "stream",
     "text": [
      "Enter an integer: 5\n",
      "615\n"
     ]
    }
   ],
   "source": [
    "#3. Write a Python program that accepts an integer (n) and computes the value of n+nn+nnn\n",
    "\n",
    "n = int(input('Enter an integer: '))\n",
    "print(n + (n*10+n) + (n*100 + n*10 + n))"
   ]
  },
  {
   "cell_type": "code",
   "execution_count": 3,
   "id": "1272c1f7",
   "metadata": {},
   "outputs": [
    {
     "name": "stdout",
     "output_type": "stream",
     "text": [
      "Enter an integer: 5\n",
      "615\n"
     ]
    }
   ],
   "source": [
    "n = int(input('Enter an integer: '))\n",
    "\n",
    "n1 = int('%s'%(n))\n",
    "n2 = int('%s%s'%(n,n) )\n",
    "n3 = int('%s%s%s'%(n,n,n) )\n",
    "\n",
    "print(n1+n2+n3)"
   ]
  },
  {
   "cell_type": "code",
   "execution_count": null,
   "id": "35b6fb6d",
   "metadata": {},
   "outputs": [],
   "source": [
    "#4. Write a Python program to print the documents (syntax, description etc.) of Python built-in function(s)."
   ]
  },
  {
   "cell_type": "code",
   "execution_count": null,
   "id": "2ffe102d",
   "metadata": {},
   "outputs": [],
   "source": [
    "\"\"\"\n",
    "\n",
    "A docstring is a string literal that occurs as the first statement in a module, function, class, or method definition.\n",
    "Such a docstring becomes the __doc__ special attribute of that object.\n",
    "\n",
    "All modules should normally have docstrings, and all functions and classes exported by a module should also have docstrings.\n",
    "Public methods (including the __init__ constructor) should also have docstrings.\n",
    "\n",
    "\"\"\""
   ]
  },
  {
   "cell_type": "code",
   "execution_count": 4,
   "id": "3944e533",
   "metadata": {},
   "outputs": [
    {
     "name": "stdout",
     "output_type": "stream",
     "text": [
      "Return the absolute value of the argument.\n"
     ]
    }
   ],
   "source": [
    "print(abs.__doc__)"
   ]
  },
  {
   "cell_type": "code",
   "execution_count": 5,
   "id": "fa9b99fb",
   "metadata": {},
   "outputs": [
    {
     "name": "stdout",
     "output_type": "stream",
     "text": [
      "Return the number of items in a container.\n"
     ]
    }
   ],
   "source": [
    "print(len.__doc__)"
   ]
  },
  {
   "cell_type": "code",
   "execution_count": 6,
   "id": "7067150f",
   "metadata": {},
   "outputs": [
    {
     "name": "stdout",
     "output_type": "stream",
     "text": [
      "Built-in mutable sequence.\n",
      "\n",
      "If no argument is given, the constructor creates a new empty list.\n",
      "The argument must be an iterable if specified.\n"
     ]
    }
   ],
   "source": [
    "print(list.__doc__)"
   ]
  },
  {
   "cell_type": "code",
   "execution_count": null,
   "id": "72a0060a",
   "metadata": {},
   "outputs": [],
   "source": [
    "#Write a Python program to print the calendar of a given month and year."
   ]
  },
  {
   "cell_type": "code",
   "execution_count": 14,
   "id": "7f93cdf6",
   "metadata": {},
   "outputs": [
    {
     "name": "stdout",
     "output_type": "stream",
     "text": [
      "Enter the year: 2022\n",
      "Enter the month: 4\n",
      "\n",
      "     April 2022\n",
      "Mo Tu We Th Fr Sa Su\n",
      "             1  2  3\n",
      " 4  5  6  7  8  9 10\n",
      "11 12 13 14 15 16 17\n",
      "18 19 20 21 22 23 24\n",
      "25 26 27 28 29 30\n",
      "\n",
      "                                  2022\n",
      "\n",
      "      January                   February                   March\n",
      "Mo Tu We Th Fr Sa Su      Mo Tu We Th Fr Sa Su      Mo Tu We Th Fr Sa Su\n",
      "                1  2          1  2  3  4  5  6          1  2  3  4  5  6\n",
      " 3  4  5  6  7  8  9       7  8  9 10 11 12 13       7  8  9 10 11 12 13\n",
      "10 11 12 13 14 15 16      14 15 16 17 18 19 20      14 15 16 17 18 19 20\n",
      "17 18 19 20 21 22 23      21 22 23 24 25 26 27      21 22 23 24 25 26 27\n",
      "24 25 26 27 28 29 30      28                        28 29 30 31\n",
      "31\n",
      "\n",
      "       April                      May                       June\n",
      "Mo Tu We Th Fr Sa Su      Mo Tu We Th Fr Sa Su      Mo Tu We Th Fr Sa Su\n",
      "             1  2  3                         1             1  2  3  4  5\n",
      " 4  5  6  7  8  9 10       2  3  4  5  6  7  8       6  7  8  9 10 11 12\n",
      "11 12 13 14 15 16 17       9 10 11 12 13 14 15      13 14 15 16 17 18 19\n",
      "18 19 20 21 22 23 24      16 17 18 19 20 21 22      20 21 22 23 24 25 26\n",
      "25 26 27 28 29 30         23 24 25 26 27 28 29      27 28 29 30\n",
      "                          30 31\n",
      "\n",
      "        July                     August                  September\n",
      "Mo Tu We Th Fr Sa Su      Mo Tu We Th Fr Sa Su      Mo Tu We Th Fr Sa Su\n",
      "             1  2  3       1  2  3  4  5  6  7                1  2  3  4\n",
      " 4  5  6  7  8  9 10       8  9 10 11 12 13 14       5  6  7  8  9 10 11\n",
      "11 12 13 14 15 16 17      15 16 17 18 19 20 21      12 13 14 15 16 17 18\n",
      "18 19 20 21 22 23 24      22 23 24 25 26 27 28      19 20 21 22 23 24 25\n",
      "25 26 27 28 29 30 31      29 30 31                  26 27 28 29 30\n",
      "\n",
      "      October                   November                  December\n",
      "Mo Tu We Th Fr Sa Su      Mo Tu We Th Fr Sa Su      Mo Tu We Th Fr Sa Su\n",
      "                1  2          1  2  3  4  5  6                1  2  3  4\n",
      " 3  4  5  6  7  8  9       7  8  9 10 11 12 13       5  6  7  8  9 10 11\n",
      "10 11 12 13 14 15 16      14 15 16 17 18 19 20      12 13 14 15 16 17 18\n",
      "17 18 19 20 21 22 23      21 22 23 24 25 26 27      19 20 21 22 23 24 25\n",
      "24 25 26 27 28 29 30      28 29 30                  26 27 28 29 30 31\n",
      "31\n",
      "\n"
     ]
    }
   ],
   "source": [
    "import calendar\n",
    "\n",
    "year = int(input('Enter the year: '))\n",
    "month = int(input('Enter the month: '))\n",
    "print()\n",
    "print(calendar.month(year,month))\n",
    "print(calendar.calendar(2022))"
   ]
  },
  {
   "cell_type": "code",
   "execution_count": 31,
   "id": "3912f93a",
   "metadata": {},
   "outputs": [
    {
     "name": "stdout",
     "output_type": "stream",
     "text": [
      "                                             2022\n",
      "\n",
      "          January                          February                          March\n",
      "Mon Tue Wed Thu Fri Sat Sun      Mon Tue Wed Thu Fri Sat Sun      Mon Tue Wed Thu Fri Sat Sun\n",
      "                      1   2            1   2   3   4   5   6            1   2   3   4   5   6\n",
      "  3   4   5   6   7   8   9        7   8   9  10  11  12  13        7   8   9  10  11  12  13\n",
      " 10  11  12  13  14  15  16       14  15  16  17  18  19  20       14  15  16  17  18  19  20\n",
      " 17  18  19  20  21  22  23       21  22  23  24  25  26  27       21  22  23  24  25  26  27\n",
      " 24  25  26  27  28  29  30       28                               28  29  30  31\n",
      " 31\n",
      "\n",
      "           April                             May                              June\n",
      "Mon Tue Wed Thu Fri Sat Sun      Mon Tue Wed Thu Fri Sat Sun      Mon Tue Wed Thu Fri Sat Sun\n",
      "                  1   2   3                                1                1   2   3   4   5\n",
      "  4   5   6   7   8   9  10        2   3   4   5   6   7   8        6   7   8   9  10  11  12\n",
      " 11  12  13  14  15  16  17        9  10  11  12  13  14  15       13  14  15  16  17  18  19\n",
      " 18  19  20  21  22  23  24       16  17  18  19  20  21  22       20  21  22  23  24  25  26\n",
      " 25  26  27  28  29  30           23  24  25  26  27  28  29       27  28  29  30\n",
      "                                  30  31\n",
      "\n",
      "            July                            August                         September\n",
      "Mon Tue Wed Thu Fri Sat Sun      Mon Tue Wed Thu Fri Sat Sun      Mon Tue Wed Thu Fri Sat Sun\n",
      "                  1   2   3        1   2   3   4   5   6   7                    1   2   3   4\n",
      "  4   5   6   7   8   9  10        8   9  10  11  12  13  14        5   6   7   8   9  10  11\n",
      " 11  12  13  14  15  16  17       15  16  17  18  19  20  21       12  13  14  15  16  17  18\n",
      " 18  19  20  21  22  23  24       22  23  24  25  26  27  28       19  20  21  22  23  24  25\n",
      " 25  26  27  28  29  30  31       29  30  31                       26  27  28  29  30\n",
      "\n",
      "          October                          November                         December\n",
      "Mon Tue Wed Thu Fri Sat Sun      Mon Tue Wed Thu Fri Sat Sun      Mon Tue Wed Thu Fri Sat Sun\n",
      "                      1   2            1   2   3   4   5   6                    1   2   3   4\n",
      "  3   4   5   6   7   8   9        7   8   9  10  11  12  13        5   6   7   8   9  10  11\n",
      " 10  11  12  13  14  15  16       14  15  16  17  18  19  20       12  13  14  15  16  17  18\n",
      " 17  18  19  20  21  22  23       21  22  23  24  25  26  27       19  20  21  22  23  24  25\n",
      " 24  25  26  27  28  29  30       28  29  30                       26  27  28  29  30  31\n",
      " 31\n",
      "\n"
     ]
    }
   ],
   "source": [
    "print(calendar.calendar(2022,3,1,6))"
   ]
  },
  {
   "cell_type": "code",
   "execution_count": 32,
   "id": "5ba4ffdf",
   "metadata": {},
   "outputs": [
    {
     "name": "stdout",
     "output_type": "stream",
     "text": [
      "a string that you \"don't\" have to escape\n",
      "This\n",
      "is a ....... multi-line\n",
      "heredoc string --------> example\n",
      "\n"
     ]
    }
   ],
   "source": [
    "print(\"\"\"a string that you \"don't\" have to escape\n",
    "This\n",
    "is a ....... multi-line\n",
    "heredoc string --------> example\n",
    "\"\"\")"
   ]
  },
  {
   "cell_type": "code",
   "execution_count": null,
   "id": "0402030b",
   "metadata": {},
   "outputs": [],
   "source": [
    "#CONCEPT\n",
    "\"\"\"\n",
    "print(\"\"\" Hello ! \"\"\") \n",
    "\n",
    "\"\"\""
   ]
  },
  {
   "cell_type": "code",
   "execution_count": null,
   "id": "43c6d98b",
   "metadata": {},
   "outputs": [],
   "source": [
    "#5. Write a Python program to print the following 'here document'.\n",
    "\n",
    "\"\"\"\n",
    "\n",
    "Sample string:\n",
    "a string that you \"don't\" have to escape\n",
    "This\n",
    "is a ....... multi-line\n",
    "heredoc string --------> example\n",
    "\n",
    "\"\"\""
   ]
  },
  {
   "cell_type": "code",
   "execution_count": null,
   "id": "dfd1d4d2",
   "metadata": {},
   "outputs": [],
   "source": [
    "#6. Write a Python program to calculate number of days between two dates."
   ]
  },
  {
   "cell_type": "code",
   "execution_count": 42,
   "id": "8f5af8a1",
   "metadata": {},
   "outputs": [
    {
     "name": "stdout",
     "output_type": "stream",
     "text": [
      "9\n"
     ]
    }
   ],
   "source": [
    "from datetime import date\n",
    "\n",
    "p_date = date(2022,7,10)#year _ month _ date\n",
    "b_date = date(2022,7,1)\n",
    "\n",
    "age = p_date - b_date\n",
    "print(age.days)\n"
   ]
  },
  {
   "cell_type": "code",
   "execution_count": 46,
   "id": "1792a41c",
   "metadata": {},
   "outputs": [
    {
     "name": "stdout",
     "output_type": "stream",
     "text": [
      "Enter the radius : 7\n",
      "Volume of sphere with radius 7 is : 1436.7550402417319\n",
      "\n"
     ]
    }
   ],
   "source": [
    "#7. Write a Python program to get the volume of a sphere with radius 6\n",
    "import math\n",
    "\n",
    "def volume(radius):\n",
    "    print('Volume of sphere with radius {} is : {}'.format(radius,(4/3)*math.pi*pow(radius,3)))\n",
    "    \n",
    "\n",
    "radius = int(input('Enter the radius : '))\n",
    "\n",
    "volume(radius)"
   ]
  },
  {
   "cell_type": "code",
   "execution_count": null,
   "id": "73d975c1",
   "metadata": {},
   "outputs": [],
   "source": []
  }
 ],
 "metadata": {
  "kernelspec": {
   "display_name": "Python 3 (ipykernel)",
   "language": "python",
   "name": "python3"
  },
  "language_info": {
   "codemirror_mode": {
    "name": "ipython",
    "version": 3
   },
   "file_extension": ".py",
   "mimetype": "text/x-python",
   "name": "python",
   "nbconvert_exporter": "python",
   "pygments_lexer": "ipython3",
   "version": "3.9.7"
  }
 },
 "nbformat": 4,
 "nbformat_minor": 5
}
