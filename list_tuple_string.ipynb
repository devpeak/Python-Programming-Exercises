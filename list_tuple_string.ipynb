{
 "cells": [
  {
   "cell_type": "code",
   "execution_count": null,
   "id": "20fe1c31",
   "metadata": {},
   "outputs": [],
   "source": [
    "#Write a Python program which accepts the user's first and last name and print them in reverse order with a space between them"
   ]
  },
  {
   "cell_type": "code",
   "execution_count": 3,
   "id": "a2485720",
   "metadata": {},
   "outputs": [
    {
     "name": "stdout",
     "output_type": "stream",
     "text": [
      "Enter your First Name: malay\n",
      "Enter you Last Name: thakur\n",
      "Hello malay thakur\n",
      "malaythakur\n"
     ]
    }
   ],
   "source": [
    "fname = input('Enter your First Name: ')\n",
    "lname = input('Enter you Last Name: ')\n",
    "\n",
    "print(\"Hello \" + fname + \" \"+ lname)"
   ]
  },
  {
   "cell_type": "code",
   "execution_count": null,
   "id": "f2dcd8f7",
   "metadata": {},
   "outputs": [],
   "source": [
    "#CONCEPT\n",
    "\"\"\"\n",
    "Python list:\n",
    "\n",
    "A list is a container which holds comma separated values (items or elements) between square brackets where items or elements\n",
    "need not all have the same type. In general, we can define a list as an object that contains multiple data items (elements).\n",
    "The contents of a list can be changed during program execution. The size of a list can also change during execution, \n",
    "as elements are added or removed from it.\n",
    "\n",
    "Python tuple:\n",
    "\n",
    "A tuple is container which holds a series of comma separated values (items or elements) between parentheses such as \n",
    "an (x, y) co-ordinate. Tuples are like lists,except they are immutable (i.e. you cannot change its content once created) \n",
    "and can hold mix data types.\n",
    "\n",
    "The split() method splits a string into a list.\n",
    "\n",
    "You can specify the separator, default separator is any whitespace.\n",
    "\n",
    "\n",
    "\"\"\""
   ]
  },
  {
   "cell_type": "code",
   "execution_count": null,
   "id": "22219d76",
   "metadata": {},
   "outputs": [],
   "source": [
    "#Write a Python program which accepts a sequence of comma-separated numbers from user and generate a list\n",
    "#and a tuple with those numbers.\n",
    "\n",
    "#Sample data : 3, 5, 7, 23\n",
    "\"\"\"\n",
    "Output :\n",
    "List : ['3', ' 5', ' 7', ' 23']\n",
    "Tuple : ('3', ' 5', ' 7', ' 23')\n",
    "\"\"\""
   ]
  },
  {
   "cell_type": "code",
   "execution_count": 13,
   "id": "f7dfdbc3",
   "metadata": {},
   "outputs": [
    {
     "name": "stdout",
     "output_type": "stream",
     "text": [
      "Enter the comma seperated numbers: 2, 3, 4, 5\n",
      "['2', ' 3', ' 4', ' 5']\n",
      "('2', ' 3', ' 4', ' 5')\n"
     ]
    }
   ],
   "source": [
    "var = input('Enter the comma seperated numbers: ')\n",
    "lst  = []\n",
    "\n",
    "lst = var.split(',')\n",
    "print(lst)\n",
    "print(tuple(lst))"
   ]
  },
  {
   "cell_type": "code",
   "execution_count": 12,
   "id": "ecb4b99d",
   "metadata": {},
   "outputs": [
    {
     "name": "stdout",
     "output_type": "stream",
     "text": [
      "Enter the comma seperated numbers: 2, 3, 4, 5\n",
      "['2,', '3,', '4,', '5']\n",
      "('2,', '3,', '4,', '5')\n"
     ]
    }
   ],
   "source": [
    "var = input('Enter the comma seperated numbers: ')\n",
    "lst  = []\n",
    "\n",
    "lst = var.split(' ')\n",
    "print(lst)\n",
    "print(tuple(lst))"
   ]
  },
  {
   "cell_type": "code",
   "execution_count": 18,
   "id": "b5db0fc6",
   "metadata": {},
   "outputs": [
    {
     "name": "stdout",
     "output_type": "stream",
     "text": [
      "['apple', 'banana', 'coconut#pineapple']\n"
     ]
    }
   ],
   "source": [
    "fruits = \"apple#banana#coconut#pineapple\"\n",
    "lst = []\n",
    "\n",
    "lst = fruits.split('#',2)\n",
    "print(lst)"
   ]
  },
  {
   "cell_type": "code",
   "execution_count": 28,
   "id": "b24281fd",
   "metadata": {},
   "outputs": [
    {
     "name": "stdout",
     "output_type": "stream",
     "text": [
      "Enter the filename: python.py\n",
      "File Extension of python.py is 'py'\n"
     ]
    }
   ],
   "source": [
    "#Write a Python program to accept a filename from the user and print the extension of that\n",
    "\n",
    "filename = input('Enter the filename: ')\n",
    "\n",
    "file_extension = filename.split('.')\n",
    "\n",
    "#print(file_extension)\n",
    "print('File Extension of {} is {}'.format(filename,repr(file_extension[-1])))"
   ]
  },
  {
   "cell_type": "code",
   "execution_count": null,
   "id": "a757a95c",
   "metadata": {},
   "outputs": [],
   "source": [
    "#CONCEPTS\n",
    "\"\"\"\n",
    "1.\n",
    "The repr() function returns a printable representational string of the given object.\n",
    "\n",
    "var = 'foo'\n",
    "\n",
    "print(repr(var))\n",
    "\n",
    "o/p: 'foo'\n",
    "\n",
    "2.\n",
    "\n",
    "numbers = [1, 2, 3, 4, 5]\n",
    "\n",
    "# create a printable representation of the list\n",
    "printable_numbers = repr(numbers)\n",
    "print(printable_numbers)\n",
    "\n",
    "# Output: [1, 2, 3, 4, 5]\n",
    "\n",
    "3.\n",
    "\n",
    "#Accessing string characters in Python\n",
    "str = 'programiz'\n",
    "print('str = ', str)\n",
    "\n",
    "#first character\n",
    "print('str[0] = ', str[0]) \n",
    "O/P : p\n",
    "\n",
    "\n",
    "#last character\n",
    "print('str[-1] = ', str[-1])\n",
    "\n",
    "O/P: z\n",
    "\n",
    "#slicing 2nd to 5th character\n",
    "print('str[1:5] = ', str[1:5])\n",
    "\n",
    "O/P: rogr\n",
    "\n",
    "#slicing 6th to 2nd last character\n",
    "print('str[5:-2] = ', str[5:-2])\n",
    "\n",
    "O/P: am\n",
    "\n",
    "\"\"\""
   ]
  },
  {
   "cell_type": "code",
   "execution_count": 27,
   "id": "95c4249d",
   "metadata": {},
   "outputs": [
    {
     "name": "stdout",
     "output_type": "stream",
     "text": [
      "py\n"
     ]
    }
   ],
   "source": [
    "fruits = []\n",
    "fruits = ['apple','mango','py']\n",
    "\n",
    "print(fruits[-1])"
   ]
  }
 ],
 "metadata": {
  "kernelspec": {
   "display_name": "Python 3 (ipykernel)",
   "language": "python",
   "name": "python3"
  },
  "language_info": {
   "codemirror_mode": {
    "name": "ipython",
    "version": 3
   },
   "file_extension": ".py",
   "mimetype": "text/x-python",
   "name": "python",
   "nbconvert_exporter": "python",
   "pygments_lexer": "ipython3",
   "version": "3.9.7"
  }
 },
 "nbformat": 4,
 "nbformat_minor": 5
}
