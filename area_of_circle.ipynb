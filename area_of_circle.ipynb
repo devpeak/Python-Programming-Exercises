{
 "cells": [
  {
   "cell_type": "code",
   "execution_count": null,
   "id": "8dd40623",
   "metadata": {},
   "outputs": [],
   "source": [
    "#concepts\n",
    "'''\n",
    "functions\n",
    "typecast\n",
    "datatype\n",
    "string addition\n",
    "\n",
    "|||VVI|||\n",
    "\n",
    "placeholder\n",
    "LIBRARY\n",
    "math.pi \n",
    "pow(radius,2) or radius**2\n",
    "\n",
    "\n",
    "refer to https://learnpython.com/blog/python-modules-packages-libraries-frameworks/\n",
    "'''"
   ]
  },
  {
   "cell_type": "code",
   "execution_count": 10,
   "id": "99f2e08f",
   "metadata": {},
   "outputs": [
    {
     "name": "stdout",
     "output_type": "stream",
     "text": [
      "Enter the radius of circle: 1\n",
      "Area of circle with radius 1.0 is : 3.141592653589793\n"
     ]
    }
   ],
   "source": [
    "from math import pi\n",
    "\n",
    "def area(radius):\n",
    "    print('Area of circle with radius {} is : {}'.format(radius,pi*radius*radius))\n",
    "    \n",
    "radius = float(input (\"Enter the radius of circle: \") )\n",
    "area(radius)"
   ]
  },
  {
   "cell_type": "code",
   "execution_count": 21,
   "id": "503d4769",
   "metadata": {},
   "outputs": [
    {
     "name": "stdout",
     "output_type": "stream",
     "text": [
      "Input the radius of a circle: 1.1\n",
      "Area of circle with radius 1.1 is: 3.8013271108436504\n"
     ]
    }
   ],
   "source": [
    "import math\n",
    "\n",
    "radius = float(input('Input the radius of a circle: '))\n",
    "print(\"Area of circle with radius \"+str(radius) + \" is: \" + str(math.pi*pow(radius,2)))"
   ]
  }
 ],
 "metadata": {
  "kernelspec": {
   "display_name": "Python 3 (ipykernel)",
   "language": "python",
   "name": "python3"
  },
  "language_info": {
   "codemirror_mode": {
    "name": "ipython",
    "version": 3
   },
   "file_extension": ".py",
   "mimetype": "text/x-python",
   "name": "python",
   "nbconvert_exporter": "python",
   "pygments_lexer": "ipython3",
   "version": "3.9.7"
  }
 },
 "nbformat": 4,
 "nbformat_minor": 5
}
