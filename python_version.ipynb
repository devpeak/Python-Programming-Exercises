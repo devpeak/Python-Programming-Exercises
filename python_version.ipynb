{
 "cells": [
  {
   "cell_type": "code",
   "execution_count": 6,
   "id": "f192a438",
   "metadata": {},
   "outputs": [
    {
     "name": "stdout",
     "output_type": "stream",
     "text": [
      "Python Version\n",
      "3.9.7 (default, Sep 16 2021, 16:59:28) [MSC v.1916 64 bit (AMD64)]\n",
      "\n",
      "Version info\n",
      "sys.version_info(major=3, minor=9, micro=7, releaselevel='final', serial=0)\n"
     ]
    }
   ],
   "source": [
    "'''\n",
    "Python Version On Command Prompt\n",
    "\n",
    "python --version\n",
    "python3 --version\n",
    "python -V\n",
    "python3 -V\n",
    "\n",
    "\n",
    "'''\n",
    "\n",
    "import sys\n",
    "print(\"Python Version\")\n",
    "print(sys.version)\n",
    "\n",
    "print()\n",
    "\n",
    "print(\"Version info\")\n",
    "print(sys.version_info)\n",
    "\n"
   ]
  },
  {
   "cell_type": "code",
   "execution_count": 7,
   "id": "f2fbeee4",
   "metadata": {},
   "outputs": [
    {
     "name": "stdout",
     "output_type": "stream",
     "text": [
      "python 3\n"
     ]
    }
   ],
   "source": [
    "if sys.version_info.major == 3:\n",
    "    print(\"python 3\")\n",
    "else:\n",
    "    print(\"python 2\")"
   ]
  }
 ],
 "metadata": {
  "kernelspec": {
   "display_name": "Python 3 (ipykernel)",
   "language": "python",
   "name": "python3"
  },
  "language_info": {
   "codemirror_mode": {
    "name": "ipython",
    "version": 3
   },
   "file_extension": ".py",
   "mimetype": "text/x-python",
   "name": "python",
   "nbconvert_exporter": "python",
   "pygments_lexer": "ipython3",
   "version": "3.9.7"
  }
 },
 "nbformat": 4,
 "nbformat_minor": 5
}
